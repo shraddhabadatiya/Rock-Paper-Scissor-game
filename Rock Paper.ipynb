{
 "cells": [
  {
   "cell_type": "code",
   "execution_count": 1,
   "id": "4b311cd7-1de0-4bd5-8c8f-423defde3eb9",
   "metadata": {},
   "outputs": [
    {
     "name": "stdout",
     "output_type": "stream",
     "text": [
      "^C\n"
     ]
    }
   ],
   "source": [
    "!pip install mediapipe opencv-python\n"
   ]
  },
  {
   "cell_type": "code",
   "execution_count": null,
   "id": "e5a887ff-669f-4386-b998-fdf3f09f798c",
   "metadata": {},
   "outputs": [],
   "source": [
    "\n"
   ]
  },
  {
   "cell_type": "code",
   "execution_count": null,
   "id": "0a9f51f1-2258-4223-95e3-e11c7a215d5c",
   "metadata": {},
   "outputs": [],
   "source": [
    "import cv2\n",
    "import random\n",
    "import mediapipe as mp\n",
    "import time\n",
    "\n",
    "# Setup MediaPipe\n",
    "mp_hands = mp.solutions.hands\n",
    "hands = mp_hands.Hands(max_num_hands=1)\n",
    "mp_draw = mp.solutions.drawing_utils\n",
    "\n",
    "cap = cv2.VideoCapture(0)\n",
    "options = ['rock', 'paper', 'scissors']\n",
    "\n",
    "def get_hand_gesture(landmarks):\n",
    "    fingers = []\n",
    "    tip_ids = [4, 8, 12, 16, 20]\n",
    "    if landmarks[tip_ids[0]].x < landmarks[tip_ids[0] - 1].x:\n",
    "        fingers.append(1)\n",
    "    else:\n",
    "        fingers.append(0)\n",
    "    for i in range(1, 5):\n",
    "        if landmarks[tip_ids[i]].y < landmarks[tip_ids[i] - 2].y:\n",
    "            fingers.append(1)\n",
    "        else:\n",
    "            fingers.append(0)\n",
    "\n",
    "    if fingers.count(1) == 0:\n",
    "        return 'rock'\n",
    "    elif fingers.count(1) == 5:\n",
    "        return 'paper'\n",
    "    elif fingers == [0, 1, 1, 0, 0]:\n",
    "        return 'scissors'\n",
    "    else:\n",
    "        return 'unknown'\n",
    "\n",
    "def decide_winner(player, computer):\n",
    "    if player == computer:\n",
    "        return \"Draw\"\n",
    "    elif (player == 'rock' and computer == 'scissors') or \\\n",
    "         (player == 'scissors' and computer == 'paper') or \\\n",
    "         (player == 'paper' and computer == 'rock'):\n",
    "        return \"You Win!\"\n",
    "    else:\n",
    "        return \"You Lose!\"\n",
    "\n",
    "# Timer variables\n",
    "last_round_time = time.time()\n",
    "round_duration = 3  # seconds\n",
    "player_move = \"Waiting...\"\n",
    "computer_move = \"\"\n",
    "result_text = \"\"\n",
    "\n",
    "print(\"Game started. A new round every 3 seconds. Press ESC to exit.\")\n",
    "\n",
    "while True:\n",
    "    success, frame = cap.read()\n",
    "    if not success:\n",
    "        break\n",
    "\n",
    "    frame = cv2.flip(frame, 1)\n",
    "    rgb = cv2.cvtColor(frame, cv2.COLOR_BGR2RGB)\n",
    "    results = hands.process(rgb)\n",
    "\n",
    "    current_time = time.time()\n",
    "\n",
    "    if current_time - last_round_time > round_duration:\n",
    "        # Time for a new round\n",
    "        if results.multi_hand_landmarks:\n",
    "            for handLms in results.multi_hand_landmarks:\n",
    "                mp_draw.draw_landmarks(frame, handLms, mp_hands.HAND_CONNECTIONS)\n",
    "                gesture = get_hand_gesture(handLms.landmark)\n",
    "                if gesture in options:\n",
    "                    player_move = gesture\n",
    "                    computer_move = random.choice(options)\n",
    "                    result_text = decide_winner(player_move, computer_move)\n",
    "                    last_round_time = current_time  # reset timer\n",
    "\n",
    "    # UI\n",
    "    cv2.putText(frame, f'You: {player_move}', (10, 30), cv2.FONT_HERSHEY_SIMPLEX, 1, (255,255,0), 2)\n",
    "    cv2.putText(frame, f'Computer: {computer_move}', (10, 70), cv2.FONT_HERSHEY_SIMPLEX, 1, (255,0,255), 2)\n",
    "    cv2.putText(frame, f'Result: {result_text}', (10, 110), cv2.FONT_HERSHEY_SIMPLEX, 1, (0,255,0), 2)\n",
    "\n",
    "    seconds_left = max(0, int(round_duration - (current_time - last_round_time)))\n",
    "    cv2.putText(frame, f'Next round in: {seconds_left}s', (10, 150), cv2.FONT_HERSHEY_SIMPLEX, 0.9, (0,255,255), 2)\n",
    "\n",
    "    cv2.imshow(\"Rock Paper Scissors - Timer Mode\", frame)\n",
    "\n",
    "    if cv2.waitKey(1) & 0xFF == 27:\n",
    "        break\n",
    "\n",
    "cap.release()\n",
    "cv2.destroyAllWindows()\n"
   ]
  },
  {
   "cell_type": "code",
   "execution_count": null,
   "id": "1306510f-b71d-4d94-ad10-a76fa1dae9ba",
   "metadata": {},
   "outputs": [],
   "source": []
  },
  {
   "cell_type": "code",
   "execution_count": null,
   "id": "3771db7d-5b93-4db4-9a9c-321c00bdb334",
   "metadata": {},
   "outputs": [],
   "source": []
  },
  {
   "cell_type": "code",
   "execution_count": null,
   "id": "332f2f48-34ba-4dc7-822b-e0708532b26b",
   "metadata": {},
   "outputs": [],
   "source": []
  }
 ],
 "metadata": {
  "kernelspec": {
   "display_name": "Python [conda env:base] *",
   "language": "python",
   "name": "conda-base-py"
  },
  "language_info": {
   "codemirror_mode": {
    "name": "ipython",
    "version": 3
   },
   "file_extension": ".py",
   "mimetype": "text/x-python",
   "name": "python",
   "nbconvert_exporter": "python",
   "pygments_lexer": "ipython3",
   "version": "3.12.7"
  }
 },
 "nbformat": 4,
 "nbformat_minor": 5
}
